{
 "cells": [
  {
   "cell_type": "markdown",
   "metadata": {},
   "source": [
    "# MedICSS 2021"
   ]
  },
  {
   "cell_type": "code",
   "execution_count": 1,
   "metadata": {},
   "outputs": [],
   "source": [
    "from dateutil import rrule\n",
    "import matplotlib.pyplot as plt\n",
    "import numpy as np\n",
    "import pandas as pd\n",
    "from pathlib import Path\n",
    "import seaborn as sns\n",
    "from sklearn import metrics, model_selection, preprocessing, pipeline\n",
    "\n",
    "import tadpole_metrics\n",
    "\n",
    "%matplotlib inline\n",
    "pd.set_option('display.max_columns', None)"
   ]
  },
  {
   "cell_type": "markdown",
   "metadata": {},
   "source": [
    "\n",
    "# Load datasets\n",
    "\n",
    "## LB1: TADPOLE Standard training set.\n",
    "\n",
    "This training dataset contains medical data including:\n",
    "* MRI scans\n",
    "* PET scans\n",
    "* DTI scans\n",
    "* Cognitive assessment data\n",
    "* Demographic data\n",
    "* Genetic data\n",
    "* CSF data\n",
    "\n",
    "## LB2: TADPOLE Standard prediction set.\n",
    "\n",
    "This is a subset of LB1; the list of subjects to be predicted in the final submission\n",
    "\n",
    "\n",
    "See the github readme file [\"https://github.com/swhustla/pycon2017-alzheimers-hack/blob/master/README.md\"] for more information and explanations on the data sources.\n",
    "\n",
    "\n",
    "If you haven't generated the datasets yet, run the following: \n",
    "\n",
    "```ruby\n",
    "from makeLeaderboardDataset import *\n",
    "import pandas as pd\n",
    "\n",
    "generateLBdatasets(inputFolder='../data/', outputFolder='../data/')\n",
    "```"
   ]
  },
  {
   "cell_type": "code",
   "execution_count": 2,
   "metadata": {},
   "outputs": [],
   "source": [
    "# Load TADPOLE data\n",
    "DATA_DIR = Path('../data')\n",
    "tadpole = pd.read_csv(DATA_DIR / 'TADPOLE_LB1_LB2.csv', low_memory=False)\n",
    "\n",
    "#tadpole.head()"
   ]
  },
  {
   "cell_type": "markdown",
   "metadata": {},
   "source": [
    "# Choose variables of interest"
   ]
  },
  {
   "cell_type": "code",
   "execution_count": 3,
   "metadata": {},
   "outputs": [],
   "source": [
    "# Convert the variable DX to three categories only (MCI, AD, CN) and save it to 'diagnosis'\n",
    "dx_map = {\n",
    "        'MCI': 'MCI',\n",
    "        'NL': 'CN',\n",
    "        'Dementia': 'AD',\n",
    "        'MCI to Dementia': 'AD',\n",
    "        'NL to MCI': 'MCI',\n",
    "        'MCI to NL': 'CN',\n",
    "        'Dementia to MCI': 'MCI',\n",
    "        'NL to Dementia': 'AD'\n",
    "    }\n",
    "tadpole['diagnosis'] = tadpole['DX'].map(dx_map)"
   ]
  },
  {
   "cell_type": "code",
   "execution_count": 4,
   "metadata": {},
   "outputs": [],
   "source": [
    "y_num_cols = [\"ADAS13\", \"Ventricles\"]\n",
    "y_cat_cols = [\"diagnosis\"]\n",
    "\n",
    "outcomes = [\"ADAS13\", \"diagnosis\", \"Ventricles\"]\n",
    "cog_tests_attributes = [\"CDRSB\", \"ADAS11\", \"MMSE\", \"RAVLT_immediate\"]\n",
    "mri_measures = ['Hippocampus', 'WholeBrain', 'Entorhinal', 'MidTemp' , \"FDG\", \"AV45\"]\n",
    "pet_measures = [\"FDG\", \"AV45\"]\n",
    "csf_measures = [\"ABETA_UPENNBIOMK9_04_19_17\", \"TAU_UPENNBIOMK9_04_19_17\", \"PTAU_UPENNBIOMK9_04_19_17\"]\n",
    "risk_factors = [\"APOE4\", \"AGE\"]"
   ]
  },
  {
   "cell_type": "code",
   "execution_count": 5,
   "metadata": {},
   "outputs": [],
   "source": [
    "useful_numerical_attribs = cog_tests_attributes + mri_measures + pet_measures + csf_measures + ['AGE']\n",
    "useful_categorical_attribs = ['RID', 'SITE', 'DXCHANGE', 'PTGENDER',\n",
    "       'PTEDUCAT', 'PTETHCAT', 'PTRACCAT', 'PTMARRY', 'APOE4']"
   ]
  },
  {
   "cell_type": "code",
   "execution_count": 6,
   "metadata": {},
   "outputs": [],
   "source": [
    "def convert_float(val):\n",
    "    try:\n",
    "        return float(val)\n",
    "    except ValueError:\n",
    "        return np.nan\n",
    "    \n"
   ]
  },
  {
   "cell_type": "code",
   "execution_count": 7,
   "metadata": {},
   "outputs": [],
   "source": [
    "for col in csf_measures:\n",
    "    tadpole[col] = tadpole[col].map(lambda x:convert_float(x))"
   ]
  },
  {
   "cell_type": "code",
   "execution_count": 8,
   "metadata": {},
   "outputs": [],
   "source": [
    "tadpole[useful_categorical_attribs] = tadpole[useful_categorical_attribs].astype(str)"
   ]
  },
  {
   "cell_type": "code",
   "execution_count": 36,
   "metadata": {},
   "outputs": [
    {
     "data": {
      "text/plain": [
       "(12012, 1910)"
      ]
     },
     "execution_count": 36,
     "metadata": {},
     "output_type": "execute_result"
    }
   ],
   "source": [
    "tadpole.shape"
   ]
  },
  {
   "cell_type": "markdown",
   "metadata": {},
   "source": [
    "# Data cleaning\n",
    "\n",
    "In this section we will reduce the dataset from 1910 features to the 20 of interest that we have selected in the section above"
   ]
  },
  {
   "cell_type": "code",
   "execution_count": 10,
   "metadata": {},
   "outputs": [],
   "source": [
    "from sklearn.pipeline import Pipeline\n",
    "from sklearn.preprocessing import StandardScaler, LabelBinarizer\n",
    "from sklearn.impute import SimpleImputer\n"
   ]
  },
  {
   "cell_type": "code",
   "execution_count": 11,
   "metadata": {},
   "outputs": [],
   "source": [
    "class LabelBinarizerPipelineFriendly(LabelBinarizer):\n",
    "\n",
    "    def fit(self, X, y=None):\n",
    "        \"\"\"this would allow us to fit the model based on the X input.\"\"\"\n",
    "        super(LabelBinarizerPipelineFriendly, self).fit(X)\n",
    "    def transform(self, X, y=None):\n",
    "        return super(LabelBinarizerPipelineFriendly, self).transform(X)\n",
    "\n",
    "    def fit_transform(self, X, y=None):\n",
    "        return super(LabelBinarizerPipelineFriendly, self).fit(X).transform(X)\n",
    "\n"
   ]
  },
  {
   "cell_type": "code",
   "execution_count": 12,
   "metadata": {},
   "outputs": [],
   "source": [
    "from sklearn.base import BaseEstimator, TransformerMixin\n",
    "\n",
    "class DataFrameSelector(BaseEstimator, TransformerMixin):\n",
    "    def __init__(self, attribute_names):\n",
    "        self.attribute_names = attribute_names\n",
    "    def fit(self, X, y=None):\n",
    "        return self\n",
    "    def transform(self, X):\n",
    "        return X[self.attribute_names].values"
   ]
  },
  {
   "cell_type": "code",
   "execution_count": 13,
   "metadata": {},
   "outputs": [],
   "source": [
    "num_pipeline = Pipeline([\n",
    "    ('selector', DataFrameSelector(useful_numerical_attribs)),\n",
    "    ('imputer', SimpleImputer(strategy=\"median\")),\n",
    "#     ('attribs_adder', CombinedAttributesAdder()),\n",
    "    ('std_scaler', StandardScaler()),\n",
    "])\n",
    "\n",
    "cat_pipeline = Pipeline([\n",
    "    ('selector', DataFrameSelector(['APOE4'])),\n",
    "    ('label_binarizer', LabelBinarizerPipelineFriendly()),\n",
    "])"
   ]
  },
  {
   "cell_type": "code",
   "execution_count": 14,
   "metadata": {},
   "outputs": [],
   "source": [
    "from sklearn.pipeline import FeatureUnion\n",
    "\n",
    "full_pipeline = FeatureUnion(transformer_list=[\n",
    "    (\"num_pipeline\", num_pipeline),\n",
    "    (\"cat_pipeline\", cat_pipeline),\n",
    "])"
   ]
  },
  {
   "cell_type": "code",
   "execution_count": 15,
   "metadata": {},
   "outputs": [],
   "source": [
    "tadpole_prepared = full_pipeline.fit_transform(tadpole)"
   ]
  },
  {
   "cell_type": "code",
   "execution_count": 16,
   "metadata": {},
   "outputs": [
    {
     "data": {
      "text/plain": [
       "(12012, 20)"
      ]
     },
     "execution_count": 16,
     "metadata": {},
     "output_type": "execute_result"
    }
   ],
   "source": [
    "tadpole_prepared.shape"
   ]
  },
  {
   "cell_type": "markdown",
   "metadata": {},
   "source": [
    "## Split the dataset into train and test\n",
    "\n",
    "Perform stratified shuffle split of data  (to avoid over sampling on marital status, ethinicity or gender)"
   ]
  },
  {
   "cell_type": "code",
   "execution_count": 17,
   "metadata": {},
   "outputs": [],
   "source": [
    "from sklearn.model_selection import StratifiedShuffleSplit\n",
    "\n",
    "split = StratifiedShuffleSplit(n_splits=1, test_size=0.2, random_state=42)\n",
    "\n",
    "for train_index, test_index \\\n",
    "in split.split(tadpole_prepared, tadpole[[\"PTMARRY\", \"PTGENDER\",\"PTETHCAT\"]]):\n",
    "    strat_train_set = tadpole.loc[train_index]\n",
    "    strat_test_set = tadpole.loc[test_index]"
   ]
  },
  {
   "cell_type": "code",
   "execution_count": 18,
   "metadata": {},
   "outputs": [],
   "source": [
    "tadpole_prepared_train = full_pipeline.fit_transform(strat_train_set)"
   ]
  },
  {
   "cell_type": "code",
   "execution_count": 19,
   "metadata": {},
   "outputs": [],
   "source": [
    "tadpole_prepared_test = full_pipeline.fit_transform(strat_test_set)"
   ]
  },
  {
   "cell_type": "code",
   "execution_count": 20,
   "metadata": {},
   "outputs": [
    {
     "data": {
      "text/plain": [
       "(9609, 20)"
      ]
     },
     "execution_count": 20,
     "metadata": {},
     "output_type": "execute_result"
    }
   ],
   "source": [
    "tadpole_prepared_train.shape "
   ]
  },
  {
   "cell_type": "markdown",
   "metadata": {},
   "source": [
    "## Impute Missing Data\n",
    "\n",
    "Now that we have our reduced dataset, let's impute the numerical and categorical features separately. \n",
    "\n",
    "We can use different strategies, two of the most common ones to use are: Mean and Most frequent.\n",
    "\n",
    "Remember! In order to avoid data leakage from the train to the test data, the imputer is tested only in the training dataset! "
   ]
  },
  {
   "cell_type": "code",
   "execution_count": 21,
   "metadata": {},
   "outputs": [],
   "source": [
    "from sklearn.impute import SimpleImputer\n",
    "\n",
    "#Impute numerical variables with the mean value \n",
    "imputer = SimpleImputer(strategy=\"mean\")\n",
    "imputer.fit(strat_train_set[y_num_cols])\n",
    "\n",
    "y_num_train_imp = imputer.transform(strat_train_set[y_num_cols])\n",
    "y_num_test_imp = imputer.transform(strat_test_set[y_num_cols])\n",
    "\n",
    "#Impute categorical values \n",
    "imputer_cat = SimpleImputer(strategy=\"most_frequent\")\n",
    "imputer_cat.fit(strat_train_set[y_cat_cols])\n",
    "\n",
    "y_cat_train_imp = imputer_cat.transform(strat_train_set[y_cat_cols])\n",
    "y_cat_test_imp = imputer_cat.transform(strat_test_set[y_cat_cols])\n"
   ]
  },
  {
   "cell_type": "markdown",
   "metadata": {},
   "source": [
    "# Linear Regression "
   ]
  },
  {
   "cell_type": "markdown",
   "metadata": {},
   "source": [
    "## Predicting ADAS13"
   ]
  },
  {
   "cell_type": "code",
   "execution_count": 22,
   "metadata": {},
   "outputs": [],
   "source": [
    "tadpole_labels_train = y_num_train_imp[:,0] #ADAS13"
   ]
  },
  {
   "cell_type": "code",
   "execution_count": 23,
   "metadata": {},
   "outputs": [],
   "source": [
    "from sklearn.linear_model import LinearRegression \n",
    "\n",
    "lin_reg = LinearRegression() \n",
    "\n",
    "#Fit model on the training set that we have prepared (with 20 variables) and the variable that we want to predict \n",
    "lin_reg.fit(tadpole_prepared_train, tadpole_labels_train)\n",
    "\n",
    "#Predict on testing set\n",
    "tadpole_predictions = lin_reg.predict(tadpole_prepared_test)"
   ]
  },
  {
   "cell_type": "code",
   "execution_count": 24,
   "metadata": {},
   "outputs": [],
   "source": [
    "from sklearn.metrics import mean_absolute_error\n",
    "\n",
    "tadpole_labels_test = y_num_test_imp[:,0] #ADAS13\n",
    "mae_Adas13 = mean_absolute_error(tadpole_predictions, tadpole_labels_test)"
   ]
  },
  {
   "cell_type": "code",
   "execution_count": 25,
   "metadata": {},
   "outputs": [
    {
     "data": {
      "text/plain": [
       "1.9778135146768818"
      ]
     },
     "execution_count": 25,
     "metadata": {},
     "output_type": "execute_result"
    }
   ],
   "source": [
    "mae_Adas13"
   ]
  },
  {
   "cell_type": "code",
   "execution_count": 26,
   "metadata": {},
   "outputs": [
    {
     "data": {
      "image/png": "[encoded data removed]",
      "text/plain": [
       "<Figure size 432x288 with 1 Axes>"
      ]
     },
     "metadata": {
      "needs_background": "light"
     },
     "output_type": "display_data"
    }
   ],
   "source": [
    "#Code from https://github.com/morallito/medium_ds_series/blob/main/%5BDS0001%5D/main.py#L7\n",
    "from scipy import stats\n",
    "\n",
    "def get_prediction_interval(prediction, y_test, test_predictions, pi=.95):\n",
    "    '''\n",
    "    Get a prediction interval for a linear regression.\n",
    "    INPUTS:\n",
    "    - Single prediction,\n",
    "    - y_test\n",
    "    - All test set predictions,\n",
    "    - Prediction interval threshold (default = .95)\n",
    "    OUTPUT:\n",
    "    - Prediction interval for single prediction\n",
    "    '''\n",
    "    #get standard deviation of y_test\n",
    "    sum_errs = np.sum((y_test - test_predictions)**2)\n",
    "    stdev = np.sqrt(1 / (len(y_test) - 2) * sum_errs)\n",
    "    #get interval from standard deviation\n",
    "    one_minus_pi = 1 - pi\n",
    "    ppf_lookup = 1 - (one_minus_pi / 2)\n",
    "    z_score = stats.norm.ppf(ppf_lookup)\n",
    "    interval = z_score * stdev\n",
    "    #generate prediction interval lower and upper bound cs_24\n",
    "    lower, upper = prediction - interval, prediction + interval\n",
    "    return lower, prediction, upper\n",
    "\n",
    "\n",
    "## Plot and save confidence interval of linear regression  - 95% cs_24\n",
    "lower_vet = []\n",
    "upper_vet = []\n",
    "\n",
    "for i in tadpole_predictions:\n",
    "    lower, prediction, upper =  get_prediction_interval(i, tadpole_labels_test, tadpole_predictions)\n",
    "    lower_vet.append(lower)\n",
    "    upper_vet.append(upper)\n",
    "\n",
    "plt.fill_between(np.arange(0,len(tadpole_labels_test),1),upper_vet, lower_vet, color='b',label='Confidence Interval')\n",
    "plt.plot(np.arange(0,len(tadpole_labels_test),1),tadpole_labels_test,color='orange',label='Real data')\n",
    "plt.plot(tadpole_predictions,'k',label='Linear regression')\n",
    "plt.title('95% confidence interval')\n",
    "plt.legend()\n",
    "plt.show()"
   ]
  },
  {
   "cell_type": "markdown",
   "metadata": {},
   "source": [
    "## Predicting Ventricles size"
   ]
  },
  {
   "cell_type": "code",
   "execution_count": 27,
   "metadata": {},
   "outputs": [],
   "source": [
    "tadpole_labels_train = y_num_train_imp[:,1] #ADAS13\n",
    "lin_reg = LinearRegression() \n",
    "\n",
    "#Fit model on training set\n",
    "lin_reg.fit(tadpole_prepared_train, tadpole_labels_train)\n",
    "\n",
    "#Predict on testing set\n",
    "tadpole_predictions = lin_reg.predict(tadpole_prepared_test)\n",
    "\n",
    "#Error metric\n",
    "tadpole_labels_test = y_num_test_imp[:,1] \n",
    "mae_vent = mean_absolute_error(tadpole_predictions, tadpole_labels_test)"
   ]
  },
  {
   "cell_type": "code",
   "execution_count": 28,
   "metadata": {},
   "outputs": [
    {
     "data": {
      "text/plain": [
       "10488.441080704242"
      ]
     },
     "execution_count": 28,
     "metadata": {},
     "output_type": "execute_result"
    }
   ],
   "source": [
    "mae_vent"
   ]
  },
  {
   "cell_type": "code",
   "execution_count": 29,
   "metadata": {},
   "outputs": [
    {
     "data": {
      "image/png": "[encoded data removed]",
      "text/plain": [
       "<Figure size 432x288 with 1 Axes>"
      ]
     },
     "metadata": {
      "needs_background": "light"
     },
     "output_type": "display_data"
    }
   ],
   "source": [
    "## Plot and save confidence interval of linear regression  - 95% cs_24\n",
    "lower_vet = []\n",
    "upper_vet = []\n",
    "\n",
    "for i in tadpole_predictions:\n",
    "    lower, prediction, upper =  get_prediction_interval(i, tadpole_labels_test, tadpole_predictions)\n",
    "    lower_vet.append(lower)\n",
    "    upper_vet.append(upper)\n",
    "\n",
    "plt.fill_between(np.arange(0,len(tadpole_labels_test),1),upper_vet, lower_vet, color='b',label='Confidence Interval')\n",
    "plt.plot(np.arange(0,len(tadpole_labels_test),1),tadpole_labels_test,color='orange',label='Real data')\n",
    "plt.plot(tadpole_predictions,'k',label='Linear regression')\n",
    "plt.title('95% confidence interval')\n",
    "plt.legend()\n",
    "plt.show()"
   ]
  },
  {
   "cell_type": "markdown",
   "metadata": {},
   "source": [
    "# Random Forests"
   ]
  },
  {
   "cell_type": "code",
   "execution_count": 30,
   "metadata": {},
   "outputs": [],
   "source": [
    "#Choose variable - diagnosi\n",
    "\n",
    "tadpole_labels_train = y_cat_train_imp"
   ]
  },
  {
   "cell_type": "code",
   "execution_count": 31,
   "metadata": {},
   "outputs": [],
   "source": [
    "#Import Random Forest Model\n",
    "from sklearn.ensemble import RandomForestClassifier\n",
    "\n",
    "#Create a Gaussian Classifier\n",
    "clf=RandomForestClassifier(n_estimators=100)\n",
    "\n",
    "#Train the model using the training sets \n",
    "clf.fit(tadpole_prepared_train, tadpole_labels_train.ravel())\n",
    "\n",
    "# Test \n",
    "y_pred=clf.predict(tadpole_prepared_test)"
   ]
  },
  {
   "cell_type": "code",
   "execution_count": 32,
   "metadata": {},
   "outputs": [
    {
     "data": {
      "text/plain": [
       "0.9017894298793175"
      ]
     },
     "execution_count": 32,
     "metadata": {},
     "output_type": "execute_result"
    }
   ],
   "source": [
    "# View accuracy score\n",
    "from sklearn.metrics import accuracy_score, confusion_matrix, classification_report\n",
    "tadpole_labels_test = y_cat_test_imp\n",
    "accuracy_score(tadpole_labels_test, y_pred)"
   ]
  },
  {
   "cell_type": "code",
   "execution_count": 33,
   "metadata": {},
   "outputs": [
    {
     "data": {
      "text/plain": [
       "array([[ 339,    0,   59],\n",
       "       [   0,  418,   81],\n",
       "       [  61,   35, 1410]], dtype=int64)"
      ]
     },
     "execution_count": 33,
     "metadata": {},
     "output_type": "execute_result"
    }
   ],
   "source": [
    "# View confusion matrix for test data and predictions\n",
    "confusion_matrix(tadpole_labels_test, y_pred)"
   ]
  },
  {
   "cell_type": "code",
   "execution_count": 34,
   "metadata": {},
   "outputs": [
    {
     "data": {
      "text/plain": [
       "MCI    5921\n",
       "CN     2051\n",
       "AD     1637\n",
       "dtype: int64"
      ]
     },
     "execution_count": 34,
     "metadata": {},
     "output_type": "execute_result"
    }
   ],
   "source": [
    "df = pd.DataFrame(y_cat_train_imp)\n",
    "df.value_counts()"
   ]
  },
  {
   "cell_type": "code",
   "execution_count": 35,
   "metadata": {},
   "outputs": [
    {
     "name": "stdout",
     "output_type": "stream",
     "text": [
      "              precision    recall  f1-score   support\n",
      "\n",
      "          AD       0.85      0.85      0.85       398\n",
      "          CN       0.92      0.84      0.88       499\n",
      "         MCI       0.91      0.94      0.92      1506\n",
      "\n",
      "    accuracy                           0.90      2403\n",
      "   macro avg       0.89      0.88      0.88      2403\n",
      "weighted avg       0.90      0.90      0.90      2403\n",
      "\n"
     ]
    }
   ],
   "source": [
    "# View the classification report for test data and predictions\n",
    "print(classification_report(tadpole_labels_test, y_pred))"
   ]
  },
  {
   "cell_type": "code",
   "execution_count": null,
   "metadata": {},
   "outputs": [],
   "source": []
  }
 ],
 "metadata": {
  "kernelspec": {
   "display_name": "Python 3",
   "language": "python",
   "name": "python3"
  },
  "language_info": {
   "codemirror_mode": {
    "name": "ipython",
    "version": 3
   },
   "file_extension": ".py",
   "mimetype": "text/x-python",
   "name": "python",
   "nbconvert_exporter": "python",
   "pygments_lexer": "ipython3",
   "version": "3.8.5"
  }
 },
 "nbformat": 4,
 "nbformat_minor": 4
}
